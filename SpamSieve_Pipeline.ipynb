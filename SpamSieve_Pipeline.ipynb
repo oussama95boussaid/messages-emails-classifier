{
  "cells": [
    {
      "cell_type": "markdown",
      "metadata": {
        "id": "imazyvHoAzh7"
      },
      "source": [
        "## **SpamSieve : Email Classification Tool**\n"
      ]
    },
    {
      "cell_type": "markdown",
      "metadata": {
        "id": "5FXQW8ZIvNMq"
      },
      "source": [
        "# Pipline"
      ]
    },
    {
      "cell_type": "code",
      "execution_count": null,
      "metadata": {
        "colab": {
          "base_uri": "https://localhost:8080/"
        },
        "id": "1jZxeQ8FGnnD",
        "outputId": "7fffb752-d4bb-4433-dbb0-5be9d427a343"
      },
      "outputs": [
        {
          "name": "stderr",
          "output_type": "stream",
          "text": [
            "[nltk_data] Downloading package stopwords to /root/nltk_data...\n",
            "[nltk_data]   Package stopwords is already up-to-date!\n"
          ]
        },
        {
          "data": {
            "text/plain": [
              "True"
            ]
          },
          "execution_count": 5,
          "metadata": {},
          "output_type": "execute_result"
        }
      ],
      "source": [
        "import numpy as np\n",
        "import pandas as pd\n",
        "import re\n",
        "import json\n",
        "from keras.preprocessing.text import Tokenizer\n",
        "from keras.preprocessing.sequence import pad_sequences\n",
        "from sklearn.metrics import classification_report,confusion_matrix\n",
        "import nltk\n",
        "from bs4 import BeautifulSoup\n",
        "from keras.models import load_model\n",
        "from nltk.corpus import stopwords\n",
        "nltk.download('stopwords')"
      ]
    },
    {
      "cell_type": "code",
      "execution_count": null,
      "metadata": {
        "id": "CglxPj0ZG4ub"
      },
      "outputs": [],
      "source": [
        "# remove the head of eamil\n",
        "def remove_header(email):\n",
        "    \"\"\"remove the header from an email\"\"\"\n",
        "    return email[email.index('\\n\\n'):]\n",
        "\n",
        "\n",
        "def remove_html_tags(input):\n",
        "    soup = BeautifulSoup(input, 'html.parser')\n",
        "    return soup.get_text()\n",
        "\n",
        "# replace URLs with oussama word and emails with boussaid\n",
        "def remove_hyperlink(word):\n",
        "    regex_links = r\"(?i)\\b((?:https?://|www\\d{0,3}[.]|[a-z0-9.\\-]+[.][a-z]{2,4}/)(?:[^\\s()<>]+|\\(([^\\s()<>]+|(\\([^\\s()<>]+\\)))*\\))+(?:\\(([^\\s()<>]+|(\\([^\\s()<>]+\\)))*\\)|[^\\s`!()\\[\\]{};:'\\\".,<>?«»“”‘’]))\"\n",
        "    word_without_links =  re.sub(regex_links,\"oussama\", word)\n",
        "    regex_email = r'\\b[A-Za-z0-9._%+-]+@[A-Za-z0-9.-]+\\.[A-Z|a-z]{2,7}\\b'\n",
        "    return re.sub(regex_email,\"boussaid\", word_without_links)\n",
        "\n",
        "\n",
        "# make word in lower case\n",
        "def to_lower(word):\n",
        "    return word.lower()\n",
        "\n",
        "\n",
        "# remove whitespaces\n",
        "def remove_whitespace(word):\n",
        "    return word.strip()\n",
        "\n",
        "\n",
        "def remove_digits(word):\n",
        "  '''This function removes all the numbers'''\n",
        "  return re.sub('\\d+', '', word)\n",
        "\n",
        "def remove_underscores(word):\n",
        "  '''This function removes all the underscores'''\n",
        "  return re.sub(r'_', '', word)\n",
        "\n",
        "\n",
        "def remove_special_characters(word):\n",
        "  '''This function removes all the special characters'''\n",
        "  return re.sub('\\W', ' ', word)\n",
        "\n",
        "# remove stop words\n",
        "stopwords_english = stopwords.words('english')\n",
        "def remove_stopwords(word,stopword_list=stopwords_english):\n",
        "  '''This function removes the stop words'''\n",
        "  word_list = word.split(\" \")\n",
        "  cleaned_txt = [w for w in word_list if not w in stopword_list]\n",
        "  cleaned_string = \" \".join(cleaned_txt)\n",
        "\n",
        "  return cleaned_string\n",
        "\n",
        "def EmailsPreprocessor(sentence):\n",
        "\n",
        "    Preprocessor_utils = [remove_header,\n",
        "                      remove_html_tags,\n",
        "                      to_lower,\n",
        "                      remove_hyperlink,\n",
        "                      remove_whitespace,\n",
        "                      remove_digits,\n",
        "                      remove_underscores,\n",
        "                      remove_stopwords,\n",
        "                      remove_special_characters]\n",
        "\n",
        "    for tool in Preprocessor_utils:\n",
        "        sentence = tool(sentence)\n",
        "\n",
        "    return sentence\n",
        "\n",
        "\n",
        "def Tokenizer_email(email):\n",
        "  max_len = 3000 # max number of words in a question to use\n",
        "  # Load word_index from the saved JSON file\n",
        "  with open('word_index.json', 'r') as json_file:\n",
        "      loaded_word_index = json.load(json_file)\n",
        "\n",
        "  tokenizer = Tokenizer()\n",
        "  tokenizer.word_index = loaded_word_index\n",
        "  eamil_seq = np.array(tokenizer.texts_to_sequences([email]))\n",
        "  # print(eamil_seq)\n",
        "\n",
        "  return pad_sequences(eamil_seq,maxlen=max_len)\n",
        "\n",
        "\n",
        "def Emails_Classifier(email):\n",
        "  email_pro = EmailsPreprocessor(email)\n",
        "  print(email_pro)\n",
        "  email_tok = Tokenizer_email(email_pro)\n",
        "  print(email_tok)\n",
        "  # load model's metadata\n",
        "  model = load_model('Email_classifier.h5')\n",
        "  # Model predict  a number from 0.0 to 1.0\n",
        "  y_pred = model.predict(email_tok)\n",
        "\n",
        "  print(y_pred)\n",
        "\n",
        "  if y_pred[0] > 0.5 :\n",
        "    return 'Spam'\n",
        "\n",
        "  else :\n",
        "    return 'Ham'\n",
        "\n"
      ]
    },
    {
      "cell_type": "markdown",
      "metadata": {
        "id": "ZrF25xbPNqum"
      },
      "source": [
        "# Get New Data"
      ]
    },
    {
      "cell_type": "code",
      "execution_count": null,
      "metadata": {
        "colab": {
          "base_uri": "https://localhost:8080/"
        },
        "id": "FWMFp41cNqfN",
        "outputId": "10bbf19e-61e4-4ff0-8a9f-1cb9bfb9e714"
      },
      "outputs": [
        {
          "name": "stdout",
          "output_type": "stream",
          "text": [
            "Downloading datasets/tar/20050311_spam_2.tar.bz2\n",
            "Downloading datasets/tar/20030228_hard_ham.tar.bz2\n",
            "Emails Ham : 1396\n",
            "Emails Spam : 250\n"
          ]
        }
      ],
      "source": [
        "import os\n",
        "import glob\n",
        "from urllib.request import urlretrieve\n",
        "import tarfile\n",
        "import shutil\n",
        "\n",
        "\n",
        "DATASETS_DIR = 'datasets'\n",
        "MODELS_DIR = 'models'\n",
        "TAR_DIR = os.path.join(DATASETS_DIR, 'tar')\n",
        "\n",
        "EASY_HAM_URL = 'https://spamassassin.apache.org/old/publiccorpus/20030228_easy_ham.tar.bz2'\n",
        "HARD_HAM_URL = 'https://spamassassin.apache.org/old/publiccorpus/20030228_hard_ham.tar.bz2'\n",
        "SPAM2_URL = 'https://spamassassin.apache.org/old/publiccorpus/20050311_spam_2.tar.bz2'\n",
        "\n",
        "\n",
        "\n",
        "def download_dataset(url):\n",
        "    \"\"\"download and unzip data from a url into the specified path\"\"\"\n",
        "\n",
        "    # create directory if it doesn't exist\n",
        "    if not os.path.isdir(TAR_DIR):\n",
        "        os.makedirs(TAR_DIR)\n",
        "\n",
        "    filename = url.rsplit('/', 1)[-1]\n",
        "    tarpath = os.path.join(TAR_DIR, filename)\n",
        "\n",
        "    # download the tar file if it doesn't exist\n",
        "    try:\n",
        "        print(\"Downloading\", tarpath)\n",
        "        tarfile.open(tarpath)\n",
        "    except:\n",
        "        urlretrieve(url, tarpath)\n",
        "\n",
        "    with tarfile.open(tarpath) as tar:\n",
        "        dirname = os.path.join(DATASETS_DIR, tar.getnames()[0])\n",
        "        if os.path.isdir(dirname):\n",
        "            shutil.rmtree(dirname)\n",
        "        tar.extractall(path=DATASETS_DIR)\n",
        "\n",
        "        cmds_path = os.path.join(dirname, 'cmds')\n",
        "        if os.path.isfile(cmds_path):\n",
        "            os.remove(cmds_path)\n",
        "\n",
        "    return dirname\n",
        "\n",
        "\n",
        "def load_dataset(dirpath):\n",
        "    \"\"\"load emails from the specified directory\"\"\"\n",
        "\n",
        "    files = []\n",
        "    filepaths = glob.glob(dirpath + '/*')\n",
        "    for path in filepaths:\n",
        "        with open(path, 'rb') as f:\n",
        "            byte_content = f.read()\n",
        "            str_content = byte_content.decode('utf-8', errors='ignore')\n",
        "            files.append(str_content)\n",
        "\n",
        "    return files\n",
        "\n",
        "\n",
        "# download the data\n",
        "spam2 = download_dataset(SPAM2_URL)\n",
        "hard_ham_dir = download_dataset(HARD_HAM_URL)\n",
        "\n",
        "\n",
        "\n",
        "# load the datasets from datasets/tar/*\n",
        "spam2 = load_dataset(spam2)\n",
        "hard_ham = load_dataset(hard_ham_dir)\n",
        "\n",
        "\n",
        "print(\"Emails Ham :\", len(spam2))\n",
        "print(\"Emails Spam :\" ,len(hard_ham))\n"
      ]
    },
    {
      "cell_type": "code",
      "execution_count": null,
      "metadata": {
        "colab": {
          "base_uri": "https://localhost:8080/"
        },
        "id": "RDvHWqaCZ6oO",
        "outputId": "c1cee82d-eb1a-439a-b1b3-5c5e618e71be"
      },
      "outputs": [
        {
          "name": "stdout",
          "output_type": "stream",
          "text": [
            "From paulson6@arabia.com  Mon Jun 25 13:11:28 2001\n",
            "Return-Path: <paulson6@arabia.com>\n",
            "Delivered-To: yyyy@netnoteinc.com\n",
            "Received: from exchange.harbin.cc (unknown [202.97.247.130]) by\n",
            "    mail.netnoteinc.com (Postfix) with ESMTP id CABAA114155 for\n",
            "    <jm7@netnoteinc.com>; Mon, 25 Jun 2001 12:18:19 +0100 (IST)\n",
            "Received: from 207.173.146.92 (eli-207-173-146-92.fgn.net\n",
            "    [207.173.146.92]) by exchange.harbin.cc with SMTP (Microsoft Exchange\n",
            "    Internet Mail Service Version 5.5.2650.21) id NM8LGL9X; Mon,\n",
            "    25 Jun 2001 18:26:25 +0800\n",
            "Message-Id: <0000104257bd$00001f24$00007177@>\n",
            "To: <Undisclosed Recipients@netnoteinc.com>\n",
            "From: paulson6@arabia.com\n",
            "Subject: *THE LEGAL CABLE TV DESCRAMBLER*\n",
            "Date: Sun, 24 Jun 2001 20:45:01 -0700\n",
            "MIME-Version: 1.0\n",
            "Content-Transfer-Encoding: quoted-printable\n",
            "X-Priority: 3\n",
            "X-Msmail-Priority: Normal\n",
            "\n",
            "\n",
            "<HTML>\n",
            "<BODY>\n",
            "\n",
            "<FONT face=3D\"MS Sans Serif\">\n",
            "<FONT size=3D2><B> <BR>\n",
            "</B>\n",
            "<FONT color=3D\"#008080\"><B> NOTE: THIS IS AN ADVERTISEMENT FOR LEGAL TV<BR=\n",
            ">\n",
            "   DE-SCRAMBLER IF YOU HAVE NO INTEREST IN THIS INFORMATION<BR>\n",
            "PLEASE CLICK DELETE NOW.  THANK YOU--<BR>\n",
            "</B></FONT><B> <BR>\n",
            "<BR>\n",
            "LEGAL CABLE TV DE-SCRAMBLER<BR>\n",
            "<BR>\n",
            "Want to watch Sporting Events?--Movies?--Pay-Per-View??<BR>\n",
            "<BR>\n",
            "*This is the Famous R-D-O Shack TV Descrambler<BR>\n",
            "You can assemble it from R-D-O Shack parts for about $12 or $15.<BR>\n",
            "<BR>\n",
            "We Send You:<BR>\n",
            "E-Z To follow Assembly Instructions.<BR>\n",
            "E-Z To read Original Drawings.<BR>\n",
            "The Famous R-D-O Shack Parts List.<BR>\n",
            "<BR>\n",
            "PLUS SOMETHING NEW YOU MUST HAVE!<BR>\n",
            "<BR>\n",
            "Something you can't do without.<BR>\n",
            "<BR>\n",
            "THE UP-TO-DATE REPORT: USING A DESCRAMBLER LEGALLY<BR>\n",
            "<BR>\n",
            "<BR>\n",
            "<BR>\n",
            "Warning: You should not build a TV Descrambler without <BR>\n",
            "reading this report first.<BR>\n",
            "<BR>\n",
            "Frequently Asked Questions--CABLE TV DESCRAMBLER<BR>\n",
            "<BR>\n",
            "Q: Will the descrambler work on Fiber, TCI, Jarrod <BR>\n",
            "and satellite systems? <BR>\n",
            "A: The answer is YES.  In respect to satellite, <BR>\n",
            "you just get more stuff! There is one exception:<BR>\n",
            " The descrambler will not work with DSS satellite.<BR>\n",
            "<BR>\n",
            "Q: Do I need a converter box?<BR>\n",
            "A: This plan works with or without a converter box.<BR>\n",
            "  Specific instructions are included in the plans for each!<BR>\n",
            "<BR>\n",
            "Q: Can the cable company detect that I have the descrambler?<BR>\n",
            "A: No, the signal descrambles right at the box and does<BR>\n",
            "   not move back through the line!<BR>\n",
            "<BR>\n",
            "Q: Do I have to alter my existing cable system, <BR>\n",
            "television or VCR?<BR>\n",
            "A: The answer is no!<BR>\n",
            "<BR>\n",
            "Q: Does this work with my remote control?<BR>\n",
            "A: The answer is yes.  The descrambler is <BR>\n",
            "manually controlled--but very easy to use!<BR>\n",
            "<BR>\n",
            "Q: Can you email me the plans?<BR>\n",
            "A: No the program comes with an easy to follow picture guide.<BR>\n",
            "<BR>\n",
            "Q: Does this work everywhere across the country?<BR>\n",
            "A: Yes, every where in the USA plus England,<BR>\n",
            " Brazil, Canada and other countries!<BR>\n",
            "<BR>\n",
            "Q: When I order, when will I get my stuff?<BR>\n",
            "A: We mail out all orders within 48 hours of receiving them.<BR>\n",
            " <BR>\n",
            " YOU SUPPLY A SELF-ADDRESSED, STAMPED, #10 LONG ENVELOPE, WITH<BR>\n",
            "TWO-FIRST CLASS STAMPS.<BR>\n",
            "<BR>\n",
            "<BR>\n",
            "Q: How much does it cost to get the instruction <BR>\n",
            "plans, the easy to follow diagram, and most<BR>\n",
            " important of all the Using a Descrambler LEGALLY.<BR>\n",
            "</B>\n",
            "<FONT color=3D\"#800040\"><B> <BR>\n",
            "A: You get the complete package all for just--$10.00<BR>\n",
            " (Cash, Check or Postal Money Order.)<BR>\n",
            "(Arizona residents include 7% Arizona State Sales Tax)<BR>\n",
            "<BR>\n",
            "(All orders outside the U.S.A. add $5.00)<BR>\n",
            "<BR>\n",
            "ORDERS OUTSIDE THE US MUST BE IN $15 in US CASH!<BR>\n",
            "<BR>\n",
            "Q: How do I order?<BR>\n",
            "A: Fill out form below and send it, along with your payment <BR>\n",
            "   AND YOUR SELF ADDRESSED 2 STAMPED ENVELOPE to:<BR>\n",
            "</B></FONT><B> <BR>\n",
            "A Groves<BR>\n",
            "PO BOX  8051<BR>\n",
            "Mesa, AZ  85214-8051<BR>\n",
            "                                       <BR>\n",
            "</B>\n",
            "<FONT color=3D\"#8000FF\"><B> MAKE CHECKS PAYABLE TO:  A Groves<BR>\n",
            "</B></FONT><B> <BR>\n",
            "PRINT YOUR:<BR>\n",
            "       (orders without an envelope or stamps will be processed<BR>\n",
            "        up to 2 weeks later than complete orders)<BR>\n",
            "<BR>\n",
            "    DO NOT FORGET YOUR STAMPS! <BR>\n",
            "<BR>\n",
            "NAME_____________________________________________<BR>\n",
            "<BR>\n",
            "ADDRESS__________________________________________<BR>\n",
            "<BR>\n",
            "CITY/STATE/ZIP_____________________________________<BR>\n",
            "<BR>\n",
            "DO NOT FORGET YOUR 2, 33 or 34 cent stamps and #10 envelope!<BR>\n",
            "<BR>\n",
            "<BR>\n",
            "<BR>\n",
            "<BR>\n",
            "<BR>\n",
            "*A GROVES is NOT ASSOCIATED in any way with RADIO SHACK. <BR>\n",
            " Neither the design nor instructions were developed<BR>\n",
            " by, are sold by, or are endorsed by Radio Shack. <BR>\n",
            " Parts for this fine-tuning device are available <BR>\n",
            " at many electronics stores (including Radio Shack) <BR>\n",
            " This is not a Radio Shack product.<BR>\n",
            "<BR>\n",
            "<BR>\n",
            "<BR>\n",
            "<BR>\n",
            "to be removed reply to: gotcha3490@looksmart.com.au<BR>\n",
            "</B> <BR>\n",
            "<BR>\n",
            "<BR>\n",
            "<BR>\n",
            "<BR>\n",
            "<BR>\n",
            "<BR>\n",
            "</FONT></FONT><p><p><p><p><p><p><p><p><p><p>\n",
            "\n",
            "\n",
            "<p><FONT face=3D\"MS Sans Serif\"><p><p><p><p><p><p><p></BODY></HTML>\n",
            "\n",
            "\n",
            "\n",
            "\n",
            "\n"
          ]
        }
      ],
      "source": [
        "print(spam2[1])"
      ]
    },
    {
      "cell_type": "code",
      "execution_count": null,
      "metadata": {
        "colab": {
          "base_uri": "https://localhost:8080/",
          "height": 125
        },
        "id": "oRtmaHJOK8yf",
        "outputId": "f31f3fdc-0576-4656-bbb3-df31c45a021a"
      },
      "outputs": [
        {
          "name": "stdout",
          "output_type": "stream",
          "text": [
            "multi part message mime format          nextpartace db content type  text plain   charset  windows   content transfer encoding  bit   ann arbor annuity exchange    giveaway    think annuities   think ann arbor  just short list many companies represent         fill form free entry    giveaway    name      e mail      phone      fax      city     state                      agent use only  employees family members ann arbor annuity exchange  subsidiaries ineligible   we want anybody receive mailing wish to receive them  professional communication sent insurance professionals  removed mailing list  reply to this message  instead  go here  oussama legal notice             nextpartace db content type  text html   charset  iso    content transfer encoding  quoted printable       giveaway                                                          just short list many companies   represent                                                                                                                                                                                      fill   out form free entry    giveaway                               name                                                               e mail                                                               phone                                                               fax                                                               city                                  state                                                                                                                                                                               agent use only  employees family members ann   arbor annuity exchange                  subsidiaries ineligible  we want anybody receive mailing   not wish                  receive them  professional communication   sent to                  insurance professionals  removed mailing   list                   reply message  instead  go here                  oussama legal   notice                                 nextpartace db  \n",
            "[[    0     0     0 ...   662 14350  1693]]\n",
            "1/1 [==============================] - 2s 2s/step\n",
            "[[0.99092877]]\n"
          ]
        },
        {
          "data": {
            "application/vnd.google.colaboratory.intrinsic+json": {
              "type": "string"
            },
            "text/plain": [
              "'Spam'"
            ]
          },
          "execution_count": 29,
          "metadata": {},
          "output_type": "execute_result"
        }
      ],
      "source": [
        "Emails_Classifier(spam2[2])"
      ]
    }
  ],
  "metadata": {
    "colab": {
      "provenance": []
    },
    "kernelspec": {
      "display_name": "Python 3",
      "name": "python3"
    },
    "language_info": {
      "codemirror_mode": {
        "name": "ipython",
        "version": 3
      },
      "file_extension": ".py",
      "mimetype": "text/x-python",
      "name": "python",
      "nbconvert_exporter": "python",
      "pygments_lexer": "ipython3",
      "version": "3.11.2"
    }
  },
  "nbformat": 4,
  "nbformat_minor": 0
}
